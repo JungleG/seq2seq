{
 "cells": [
  {
   "cell_type": "code",
   "execution_count": null,
   "metadata": {},
   "outputs": [],
   "source": [
    "import torch as t\n",
    "from torch import nn"
   ]
  },
  {
   "cell_type": "code",
   "execution_count": null,
   "metadata": {},
   "outputs": [],
   "source": [
    "class Encoder(nn.Module):\n",
    "    def __init__(self, src_vocab_size, embed_size, hidden_size, n_layers=1, dropout=0.5):\n",
    "        super().__init__()\n",
    "        self.input_vocab_size = src_vocab_size\n",
    "        self.embed_size = embed_size\n",
    "        self.hidden_size = hidden_size\n",
    "        self.embed = nn.Embedding(src_vocab_size, embed_size, padding_idx)\n",
    "        self.lstm = nn.LSTM(embed_size, hidden_size, n_layers, dropout)\n",
    "\n",
    "    def forward(self, src, hidden=None):\n",
    "        embedded = self.embed(src)\n",
    "        outputs, hidden = self.lstm(src)\n",
    "        return outpurs, hidden"
   ]
  },
  {
   "cell_type": "code",
   "execution_count": null,
   "metadata": {},
   "outputs": [],
   "source": [
    "class Attention(nn.Moudle):\n",
    "    def __init__(self):\n",
    "        pass\n",
    "\n",
    "    def forward(self,):\n",
    "        pass"
   ]
  },
  {
   "cell_type": "code",
   "execution_count": null,
   "metadata": {},
   "outputs": [],
   "source": [
    "class Decoder(nn.Moudle):\n",
    "    def __init(self, tgt_vocab_size, embed_size, hidden_size, n_layers=1, dropout=0.5):\n",
    "        super().__init_()\n",
    "        self.embed = nn.Embedding(tgt_vocab_size, embed_size, padding_idx)\n",
    "        self.attention = Attention(hidden_size)\n",
    "        self.lstm = "
   ]
  },
  {
   "cell_type": "code",
   "execution_count": null,
   "metadata": {
    "scrolled": true
   },
   "outputs": [],
   "source": [
    "class Seq2Seq(nn.Moudle):\n",
    "    def __init__(self, ):\n",
    "        super().__init__()\n",
    "        self.enc=Encoder()\n",
    "        self.dec=Decoder()"
   ]
  },
  {
   "cell_type": "code",
   "execution_count": null,
   "metadata": {},
   "outputs": [],
   "source": []
  }
 ],
 "metadata": {
  "kernelspec": {
   "display_name": "Python 3",
   "language": "python",
   "name": "python3"
  },
  "language_info": {
   "codemirror_mode": {
    "name": "ipython",
    "version": 3
   },
   "file_extension": ".py",
   "mimetype": "text/x-python",
   "name": "python",
   "nbconvert_exporter": "python",
   "pygments_lexer": "ipython3",
   "version": "3.7.3"
  }
 },
 "nbformat": 4,
 "nbformat_minor": 2
}
