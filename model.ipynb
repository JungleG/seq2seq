{
 "cells": [
  {
   "cell_type": "code",
   "execution_count": null,
   "metadata": {},
   "outputs": [],
   "source": [
    "import torch as t\n",
    "from torch import nn"
   ]
  },
  {
   "cell_type": "code",
   "execution_count": null,
   "metadata": {},
   "outputs": [],
   "source": [
    "class Encoder(nn.Module):\n",
    "    def __init__(self, src_vocab_size, embed_size, hidden_size, n_layers=1, dropout=0.5):\n",
    "        super().__init__()\n",
    "        self.input_vocab_size = src_vocab_size\n",
    "        self.embed_size = embed_size\n",
    "        self.hidden_size = hidden_size\n",
    "        self.embed = nn.Embedding(src_vocab_size, embed_size, padding_idx)\n",
    "        self.lstm = nn.LSTM(embed_size, hidden_size, n_layers, dropout=dropout, bidirectional=True)\n",
    "\n",
    "    def forward(self, src, hidden=None):\n",
    "        embedded = self.embed(src)\n",
    "        outputs, hidden = self.lstm(src)\n",
    "        return outpurs, hidden"
   ]
  },
  {
   "cell_type": "code",
   "execution_count": null,
   "metadata": {},
   "outputs": [],
   "source": [
    "class Attention(nn.Moudle):\n",
    "    def __init__(self):\n",
    "        super().__init__()\n",
    "        self.linear = nn.Linear()\n",
    "\n",
    "    def forward(self, hidden, encoder_outputs):\n",
    "        "
   ]
  },
  {
   "cell_type": "code",
   "execution_count": null,
   "metadata": {},
   "outputs": [],
   "source": [
    "class Decoder(nn.Moudle):\n",
    "    def __init(self, tgt_vocab_size, embed_size, hidden_size, n_layers=1, dropout=0.5):\n",
    "        super().__init__()\n",
    "        self.embed = nn.Embedding(tgt_vocab_size, embed_size, padding_idx)\n",
    "        self.attention = Attention(hidden_size)\n",
    "        self.lstm = nn.LSTM(embed_size, hidden_size, n_layers, dropout)\n",
    "        self.linear = nn.Linear(hidden_size*2, tgt_vocab_size)"
   ]
  },
  {
   "cell_type": "code",
   "execution_count": null,
   "metadata": {
    "scrolled": true
   },
   "outputs": [],
   "source": [
    "class Seq2Seq(nn.Moudle):\n",
    "    def __init__(self, ):\n",
    "        super().__init__()\n",
    "        self.enc=Encoder()\n",
    "        self.dec=Decoder()"
   ]
  },
  {
   "cell_type": "code",
   "execution_count": null,
   "metadata": {},
   "outputs": [],
   "source": []
  },
  {
   "cell_type": "code",
   "execution_count": 109,
   "metadata": {},
   "outputs": [],
   "source": [
    "lstm= nn.LSTM(3,4)\n",
    "gru = nn.GRU(3,5,1)"
   ]
  },
  {
   "cell_type": "code",
   "execution_count": 110,
   "metadata": {},
   "outputs": [],
   "source": [
    "a = t.Tensor([[[3,4,5]],[[1,2,3]],[[4,5,6]]])"
   ]
  },
  {
   "cell_type": "code",
   "execution_count": 111,
   "metadata": {},
   "outputs": [
    {
     "data": {
      "text/plain": [
       "torch.Size([3, 1, 3])"
      ]
     },
     "execution_count": 111,
     "metadata": {},
     "output_type": "execute_result"
    }
   ],
   "source": [
    "a.shape"
   ]
  },
  {
   "cell_type": "code",
   "execution_count": 112,
   "metadata": {},
   "outputs": [],
   "source": [
    "o,h = lstm(a)"
   ]
  },
  {
   "cell_type": "code",
   "execution_count": 113,
   "metadata": {},
   "outputs": [
    {
     "data": {
      "text/plain": [
       "tensor([[[ 0.0133, -0.0772, -0.1376,  0.1783]],\n",
       "\n",
       "        [[ 0.0974, -0.1345, -0.3137,  0.2529]],\n",
       "\n",
       "        [[ 0.0368, -0.0761, -0.1067,  0.1547]]], grad_fn=<StackBackward>)"
      ]
     },
     "execution_count": 113,
     "metadata": {},
     "output_type": "execute_result"
    }
   ],
   "source": [
    "o"
   ]
  },
  {
   "cell_type": "code",
   "execution_count": 114,
   "metadata": {},
   "outputs": [
    {
     "data": {
      "text/plain": [
       "(tensor([[[ 0.0368, -0.0761, -0.1067,  0.1547]]], grad_fn=<StackBackward>),\n",
       " tensor([[[ 0.1029, -0.1217, -0.1677,  0.9221]]], grad_fn=<StackBackward>))"
      ]
     },
     "execution_count": 114,
     "metadata": {},
     "output_type": "execute_result"
    }
   ],
   "source": [
    "h"
   ]
  },
  {
   "cell_type": "code",
   "execution_count": 115,
   "metadata": {},
   "outputs": [
    {
     "data": {
      "text/plain": [
       "(tensor([[[ 0.4122, -0.4796,  0.7884,  0.8438, -0.6294]],\n",
       " \n",
       "         [[ 0.4351, -0.7290,  0.8668,  0.8095, -0.6690]],\n",
       " \n",
       "         [[ 0.6093, -0.8994,  0.9607,  0.9502, -0.8861]]],\n",
       "        grad_fn=<StackBackward>),\n",
       " tensor([[[ 0.6093, -0.8994,  0.9607,  0.9502, -0.8861]]],\n",
       "        grad_fn=<StackBackward>))"
      ]
     },
     "execution_count": 115,
     "metadata": {},
     "output_type": "execute_result"
    }
   ],
   "source": [
    "gru(a)"
   ]
  },
  {
   "cell_type": "code",
   "execution_count": null,
   "metadata": {},
   "outputs": [],
   "source": []
  },
  {
   "cell_type": "code",
   "execution_count": null,
   "metadata": {},
   "outputs": [],
   "source": []
  }
 ],
 "metadata": {
  "kernelspec": {
   "display_name": "Python 3",
   "language": "python",
   "name": "python3"
  },
  "language_info": {
   "codemirror_mode": {
    "name": "ipython",
    "version": 3
   },
   "file_extension": ".py",
   "mimetype": "text/x-python",
   "name": "python",
   "nbconvert_exporter": "python",
   "pygments_lexer": "ipython3",
   "version": "3.7.3"
  }
 },
 "nbformat": 4,
 "nbformat_minor": 2
}
